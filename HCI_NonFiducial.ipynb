{
 "cells": [
  {
   "cell_type": "code",
   "execution_count": 1,
   "metadata": {},
   "outputs": [],
   "source": [
    "import wfdb\n",
    "import numpy as np\n",
    "import pandas as pd\n",
    "import matplotlib.pyplot as plt\n",
    "from scipy.signal import butter, filtfilt\n",
    "from sklearn.decomposition import PCA\n",
    "import statsmodels.api as sm\n",
    "import scipy.fftpack as fft\n",
    "import os\n",
    "from sklearn.model_selection import train_test_split"
   ]
  },
  {
   "cell_type": "markdown",
   "metadata": {},
   "source": [
    "## Filter"
   ]
  },
  {
   "cell_type": "code",
   "execution_count": 3,
   "metadata": {},
   "outputs": [],
   "source": [
    "def filter_sig(record_name):\n",
    "    # Load the ECG recording and associated metadata\n",
    "    record = wfdb.rdrecord(record_name)\n",
    "\n",
    "    # Extract the ECG signal from all channels\n",
    "    ecg_signal = record.p_signal\n",
    "\n",
    "    # Define the filter cut-off frequencies in Hz\n",
    "    lowcut = 1.0\n",
    "    highcut = 40.0\n",
    "\n",
    "    # Define the filter order\n",
    "    order = 4\n",
    "\n",
    "    # Compute the Nyquist frequency\n",
    "    nyq = 0.5 * record.fs\n",
    "\n",
    "    # Compute the filter cut-off frequencies in normalized units\n",
    "    low = lowcut / nyq\n",
    "    high = highcut / nyq\n",
    "\n",
    "    # Compute the filter coefficients using a Butterworth filter for each channel\n",
    "    filtered_signal = np.zeros_like(ecg_signal)\n",
    "    for i in range(ecg_signal.shape[1]):\n",
    "        b, a = butter(order, [low, high], btype='band')\n",
    "        filtered_signal[:, i] = filtfilt(b, a, ecg_signal[:, i])\n",
    "    return filtered_signal"
   ]
  },
  {
   "cell_type": "markdown",
   "metadata": {},
   "source": [
    "## Segment signal into slices"
   ]
  },
  {
   "cell_type": "code",
   "execution_count": 4,
   "metadata": {},
   "outputs": [],
   "source": [
    "def segment_sig(signal):\n",
    "    segment_size = 1000\n",
    "\n",
    "    # Calculate the number of segments\n",
    "    num_segments = signal.shape[0] // segment_size\n",
    "\n",
    "    # Create an empty numpy array to store the segments\n",
    "    segments = np.empty((num_segments, segment_size, signal.shape[1]))\n",
    "\n",
    "    # Split the signal into segments\n",
    "    for i in range(num_segments):\n",
    "        start_idx = i * segment_size\n",
    "        end_idx = start_idx + segment_size\n",
    "        segments[i] = signal[start_idx:end_idx]\n",
    "    return segments"
   ]
  },
  {
   "cell_type": "markdown",
   "metadata": {},
   "source": [
    "## Apply AC-DCT to signal"
   ]
  },
  {
   "cell_type": "code",
   "execution_count": 5,
   "metadata": {
    "scrolled": false
   },
   "outputs": [],
   "source": [
    "def AC_DCT(signal):   \n",
    "    ac_dct_signal = np.zeros((len(signal),100,15))  # Array to store AC DCT coefficients\n",
    "    # Iterate over each segment of the signal\n",
    "    for i in range(signal.shape[0]):\n",
    "        segment = signal[i]\n",
    "\n",
    "        # Iterate over each channel in the segment\n",
    "        for j in range(segment.shape[1]):\n",
    "            channel = segment[:100, j]\n",
    "\n",
    "            # Auto-Correlation\n",
    "            ac = sm.tsa.acf(channel, nlags=1000)\n",
    "\n",
    "            # Discrete Cosine Transform\n",
    "            dct = fft.dct(ac, type=2)\n",
    "\n",
    "            # Store AC DCT coefficients in the array\n",
    "            ac_dct_signal[i, :100, j] = dct\n",
    "\n",
    "    # Print the shape of the AC DCT signal\n",
    "    return ac_dct_signal"
   ]
  },
  {
   "cell_type": "markdown",
   "metadata": {},
   "source": [
    "## PCA"
   ]
  },
  {
   "cell_type": "code",
   "execution_count": 6,
   "metadata": {},
   "outputs": [],
   "source": [
    "def PCA_sig(X_train,X_test):\n",
    "    num_components = 20\n",
    "    pca_signal = np.zeros((38,num_components))\n",
    "\n",
    "    pca = PCA(n_components=num_components)\n",
    "    pca =pca.fit(X_train)\n",
    "    X_train = pca.transform(X_train)\n",
    "    X_test = pca.transform(X_test)\n",
    "    # Print explained variance ratio for each principal component\n",
    "    print('Explained variance ratio for hearbeat {}: {}'.format(i+1, pca.explained_variance_ratio_))\n",
    "    print(sum(pca.explained_variance_ratio_))\n",
    "    return X_train,X_test"
   ]
  },
  {
   "cell_type": "markdown",
   "metadata": {},
   "source": [
    "## Prepare data and add the result to the dataframe"
   ]
  },
  {
   "cell_type": "code",
   "execution_count": 7,
   "metadata": {},
   "outputs": [],
   "source": [
    "def prepare_data(patient_no,ac_dct_signal):\n",
    "    sig = np.zeros((len(ac_dct_signal),(100*15)+1))\n",
    "    for i in range(len(ac_dct_signal)): \n",
    "        x= np.append(ac_dct_signal[i].flatten(), patient_no)\n",
    "        sig[i] = x\n",
    "    sig.shape\n",
    "    X=sig[:,:1500]\n",
    "    y=sig[:,-1]\n",
    "    X_train, X_test, y_train, y_test = train_test_split(X, y, test_size=0.2, random_state=42)\n",
    "    return X_train, X_test, y_train, y_test"
   ]
  },
  {
   "cell_type": "code",
   "execution_count": null,
   "metadata": {},
   "outputs": [],
   "source": []
  },
  {
   "cell_type": "code",
   "execution_count": 8,
   "metadata": {},
   "outputs": [],
   "source": [
    "def add_to_df(X_train,X_test,y_train,y_test,df):\n",
    "    # Create dataframes for each array\n",
    "    train_df = pd.DataFrame(X_train, columns=['Feature_{}'.format(i) for i in range(X_train.shape[1])])\n",
    "    train_df['Target'] = y_train\n",
    "\n",
    "    test_df = pd.DataFrame(X_test, columns=['Feature_{}'.format(i) for i in range(X_test.shape[1])])\n",
    "    test_df['Target'] = y_test\n",
    "\n",
    "    # Concatenate the train and test dataframes\n",
    "    combined_df = pd.concat([df,train_df, test_df], axis=0).reset_index(drop=True)\n",
    "\n",
    "    # Print the combined dataframe\n",
    "    return combined_df"
   ]
  },
  {
   "cell_type": "markdown",
   "metadata": {},
   "source": [
    "## Main\n"
   ]
  },
  {
   "cell_type": "code",
   "execution_count": 42,
   "metadata": {},
   "outputs": [
    {
     "name": "stderr",
     "output_type": "stream",
     "text": [
      "D:\\AI\\lib\\site-packages\\statsmodels\\tsa\\stattools.py:572: FutureWarning: fft=True will become the default in a future version of statsmodels. To suppress this warning, explicitly set fft=False.\n",
      "  FutureWarning\n"
     ]
    },
    {
     "name": "stdout",
     "output_type": "stream",
     "text": [
      "Explained variance ratio for hearbeat 1: [0.48747541 0.14336816 0.06697648 0.04673535 0.04055426 0.03704727\n",
      " 0.02685251 0.02166799 0.01912801 0.01268997 0.0125418  0.0103437\n",
      " 0.00848404 0.00716567 0.00624454 0.00571562 0.0052524  0.0043484\n",
      " 0.00393968 0.00335303]\n",
      "0.9698843053012373\n"
     ]
    },
    {
     "name": "stderr",
     "output_type": "stream",
     "text": [
      "D:\\AI\\lib\\site-packages\\statsmodels\\tsa\\stattools.py:572: FutureWarning: fft=True will become the default in a future version of statsmodels. To suppress this warning, explicitly set fft=False.\n",
      "  FutureWarning\n"
     ]
    },
    {
     "name": "stdout",
     "output_type": "stream",
     "text": [
      "Explained variance ratio for hearbeat 2: [0.43135783 0.1423616  0.06501051 0.05204245 0.04447743 0.03503406\n",
      " 0.02875399 0.02390472 0.01914271 0.01816983 0.01456631 0.01359608\n",
      " 0.01156846 0.01114445 0.01024037 0.00787067 0.00770334 0.00565005\n",
      " 0.00517166 0.00460827]\n",
      "0.9523747886521347\n"
     ]
    },
    {
     "name": "stderr",
     "output_type": "stream",
     "text": [
      "D:\\AI\\lib\\site-packages\\statsmodels\\tsa\\stattools.py:572: FutureWarning: fft=True will become the default in a future version of statsmodels. To suppress this warning, explicitly set fft=False.\n",
      "  FutureWarning\n"
     ]
    },
    {
     "name": "stdout",
     "output_type": "stream",
     "text": [
      "Explained variance ratio for hearbeat 3: [0.37052203 0.13629747 0.07547336 0.06264818 0.04698281 0.03701946\n",
      " 0.03550527 0.0272817  0.02294109 0.01908295 0.01826084 0.01713075\n",
      " 0.01386509 0.01309953 0.01159534 0.00903576 0.00824915 0.00663302\n",
      " 0.00619827 0.00565382]\n",
      "0.9434758889302359\n"
     ]
    },
    {
     "name": "stderr",
     "output_type": "stream",
     "text": [
      "D:\\AI\\lib\\site-packages\\statsmodels\\tsa\\stattools.py:572: FutureWarning: fft=True will become the default in a future version of statsmodels. To suppress this warning, explicitly set fft=False.\n",
      "  FutureWarning\n"
     ]
    },
    {
     "name": "stdout",
     "output_type": "stream",
     "text": [
      "Explained variance ratio for hearbeat 4: [0.31709908 0.17822692 0.07537606 0.05784528 0.04651667 0.03689804\n",
      " 0.02862915 0.02602756 0.02175704 0.01952727 0.0181281  0.01586366\n",
      " 0.01417338 0.0132369  0.01204655 0.01028865 0.01000017 0.00841419\n",
      " 0.00800833 0.00719594]\n",
      "0.9252589722478318\n"
     ]
    },
    {
     "name": "stderr",
     "output_type": "stream",
     "text": [
      "D:\\AI\\lib\\site-packages\\statsmodels\\tsa\\stattools.py:572: FutureWarning: fft=True will become the default in a future version of statsmodels. To suppress this warning, explicitly set fft=False.\n",
      "  FutureWarning\n"
     ]
    },
    {
     "name": "stdout",
     "output_type": "stream",
     "text": [
      "Explained variance ratio for hearbeat 5: [0.41884599 0.13067851 0.08614866 0.07034547 0.03512796 0.02732405\n",
      " 0.02473352 0.0242809  0.01980519 0.01602678 0.01357877 0.01242699\n",
      " 0.01118422 0.01061518 0.0099216  0.00888459 0.00777735 0.00757144\n",
      " 0.00697233 0.0055269 ]\n",
      "0.9477763985643406\n"
     ]
    },
    {
     "name": "stderr",
     "output_type": "stream",
     "text": [
      "D:\\AI\\lib\\site-packages\\statsmodels\\tsa\\stattools.py:572: FutureWarning: fft=True will become the default in a future version of statsmodels. To suppress this warning, explicitly set fft=False.\n",
      "  FutureWarning\n"
     ]
    },
    {
     "name": "stdout",
     "output_type": "stream",
     "text": [
      "Explained variance ratio for hearbeat 6: [0.23865098 0.14625812 0.10374835 0.05910828 0.05564305 0.03757873\n",
      " 0.03409136 0.02840022 0.02466858 0.02300959 0.02256322 0.01879503\n",
      " 0.01734538 0.01600162 0.01463912 0.01346184 0.01232348 0.01117133\n",
      " 0.0099492  0.00964958]\n",
      "0.8970570404114134\n"
     ]
    },
    {
     "name": "stderr",
     "output_type": "stream",
     "text": [
      "D:\\AI\\lib\\site-packages\\statsmodels\\tsa\\stattools.py:572: FutureWarning: fft=True will become the default in a future version of statsmodels. To suppress this warning, explicitly set fft=False.\n",
      "  FutureWarning\n"
     ]
    },
    {
     "name": "stdout",
     "output_type": "stream",
     "text": [
      "Explained variance ratio for hearbeat 7: [0.35425819 0.09445706 0.07067392 0.06529249 0.05204739 0.04000401\n",
      " 0.02877796 0.02500528 0.02364657 0.02167676 0.01940971 0.0183693\n",
      " 0.01587197 0.01576352 0.01424038 0.01242022 0.01104766 0.01062257\n",
      " 0.00970221 0.00819824]\n",
      "0.9114854084330187\n"
     ]
    },
    {
     "name": "stderr",
     "output_type": "stream",
     "text": [
      "D:\\AI\\lib\\site-packages\\statsmodels\\tsa\\stattools.py:572: FutureWarning: fft=True will become the default in a future version of statsmodels. To suppress this warning, explicitly set fft=False.\n",
      "  FutureWarning\n"
     ]
    },
    {
     "name": "stdout",
     "output_type": "stream",
     "text": [
      "Explained variance ratio for hearbeat 8: [0.45432156 0.17796561 0.07498576 0.05272232 0.03569007 0.03004418\n",
      " 0.02093836 0.01951908 0.01692584 0.01269828 0.01037428 0.00937753\n",
      " 0.00871461 0.00762162 0.00720475 0.00663898 0.00615078 0.00536021\n",
      " 0.00502052 0.00470059]\n",
      "0.9669749284680998\n"
     ]
    },
    {
     "data": {
      "text/html": [
       "<div>\n",
       "<style scoped>\n",
       "    .dataframe tbody tr th:only-of-type {\n",
       "        vertical-align: middle;\n",
       "    }\n",
       "\n",
       "    .dataframe tbody tr th {\n",
       "        vertical-align: top;\n",
       "    }\n",
       "\n",
       "    .dataframe thead th {\n",
       "        text-align: right;\n",
       "    }\n",
       "</style>\n",
       "<table border=\"1\" class=\"dataframe\">\n",
       "  <thead>\n",
       "    <tr style=\"text-align: right;\">\n",
       "      <th></th>\n",
       "      <th>Feature_0</th>\n",
       "      <th>Feature_1</th>\n",
       "      <th>Feature_2</th>\n",
       "      <th>Feature_3</th>\n",
       "      <th>Feature_4</th>\n",
       "      <th>Feature_5</th>\n",
       "      <th>Feature_6</th>\n",
       "      <th>Feature_7</th>\n",
       "      <th>Feature_8</th>\n",
       "      <th>Feature_9</th>\n",
       "      <th>...</th>\n",
       "      <th>Feature_11</th>\n",
       "      <th>Feature_12</th>\n",
       "      <th>Feature_13</th>\n",
       "      <th>Feature_14</th>\n",
       "      <th>Feature_15</th>\n",
       "      <th>Feature_16</th>\n",
       "      <th>Feature_17</th>\n",
       "      <th>Feature_18</th>\n",
       "      <th>Feature_19</th>\n",
       "      <th>Target</th>\n",
       "    </tr>\n",
       "  </thead>\n",
       "  <tbody>\n",
       "    <tr>\n",
       "      <th>0</th>\n",
       "      <td>0.563894</td>\n",
       "      <td>-27.651872</td>\n",
       "      <td>-4.104407</td>\n",
       "      <td>39.997896</td>\n",
       "      <td>0.946165</td>\n",
       "      <td>9.929643</td>\n",
       "      <td>1.731378</td>\n",
       "      <td>-27.739661</td>\n",
       "      <td>11.814051</td>\n",
       "      <td>-16.247570</td>\n",
       "      <td>...</td>\n",
       "      <td>-25.134839</td>\n",
       "      <td>-12.323980</td>\n",
       "      <td>-9.285431</td>\n",
       "      <td>5.085570</td>\n",
       "      <td>-1.259299</td>\n",
       "      <td>-1.164029</td>\n",
       "      <td>1.787597</td>\n",
       "      <td>-14.898986</td>\n",
       "      <td>-13.624128</td>\n",
       "      <td>174.0</td>\n",
       "    </tr>\n",
       "    <tr>\n",
       "      <th>1</th>\n",
       "      <td>-47.069081</td>\n",
       "      <td>4.777334</td>\n",
       "      <td>23.668899</td>\n",
       "      <td>-1.494526</td>\n",
       "      <td>4.079126</td>\n",
       "      <td>6.219525</td>\n",
       "      <td>13.454602</td>\n",
       "      <td>-3.111150</td>\n",
       "      <td>-4.269745</td>\n",
       "      <td>-4.589224</td>\n",
       "      <td>...</td>\n",
       "      <td>3.699144</td>\n",
       "      <td>0.396980</td>\n",
       "      <td>-1.095760</td>\n",
       "      <td>-2.313230</td>\n",
       "      <td>-3.217391</td>\n",
       "      <td>2.422398</td>\n",
       "      <td>3.191262</td>\n",
       "      <td>-1.876169</td>\n",
       "      <td>-2.181530</td>\n",
       "      <td>174.0</td>\n",
       "    </tr>\n",
       "    <tr>\n",
       "      <th>2</th>\n",
       "      <td>87.580064</td>\n",
       "      <td>68.957803</td>\n",
       "      <td>-24.483299</td>\n",
       "      <td>20.099587</td>\n",
       "      <td>-14.564748</td>\n",
       "      <td>13.782585</td>\n",
       "      <td>4.291053</td>\n",
       "      <td>19.333600</td>\n",
       "      <td>-14.647395</td>\n",
       "      <td>2.183234</td>\n",
       "      <td>...</td>\n",
       "      <td>-6.511897</td>\n",
       "      <td>6.073350</td>\n",
       "      <td>-0.601690</td>\n",
       "      <td>-1.873165</td>\n",
       "      <td>-9.463481</td>\n",
       "      <td>-0.456301</td>\n",
       "      <td>-1.467119</td>\n",
       "      <td>-8.727795</td>\n",
       "      <td>3.042135</td>\n",
       "      <td>174.0</td>\n",
       "    </tr>\n",
       "    <tr>\n",
       "      <th>3</th>\n",
       "      <td>-67.800301</td>\n",
       "      <td>-4.261082</td>\n",
       "      <td>6.755723</td>\n",
       "      <td>-7.386537</td>\n",
       "      <td>25.887966</td>\n",
       "      <td>-2.374427</td>\n",
       "      <td>4.453961</td>\n",
       "      <td>-3.503804</td>\n",
       "      <td>-7.116013</td>\n",
       "      <td>6.348078</td>\n",
       "      <td>...</td>\n",
       "      <td>-1.549549</td>\n",
       "      <td>-0.090490</td>\n",
       "      <td>-2.792017</td>\n",
       "      <td>-1.761825</td>\n",
       "      <td>-5.233319</td>\n",
       "      <td>-1.937788</td>\n",
       "      <td>1.344041</td>\n",
       "      <td>-1.611306</td>\n",
       "      <td>-2.219085</td>\n",
       "      <td>174.0</td>\n",
       "    </tr>\n",
       "    <tr>\n",
       "      <th>4</th>\n",
       "      <td>-31.314307</td>\n",
       "      <td>-33.503198</td>\n",
       "      <td>-3.069644</td>\n",
       "      <td>5.036652</td>\n",
       "      <td>-21.603841</td>\n",
       "      <td>-22.266481</td>\n",
       "      <td>-3.565972</td>\n",
       "      <td>21.526742</td>\n",
       "      <td>-1.067324</td>\n",
       "      <td>1.093526</td>\n",
       "      <td>...</td>\n",
       "      <td>-10.541135</td>\n",
       "      <td>-0.439779</td>\n",
       "      <td>-5.411566</td>\n",
       "      <td>6.123481</td>\n",
       "      <td>1.148077</td>\n",
       "      <td>-0.896215</td>\n",
       "      <td>2.075294</td>\n",
       "      <td>-0.016857</td>\n",
       "      <td>-4.695255</td>\n",
       "      <td>174.0</td>\n",
       "    </tr>\n",
       "    <tr>\n",
       "      <th>...</th>\n",
       "      <td>...</td>\n",
       "      <td>...</td>\n",
       "      <td>...</td>\n",
       "      <td>...</td>\n",
       "      <td>...</td>\n",
       "      <td>...</td>\n",
       "      <td>...</td>\n",
       "      <td>...</td>\n",
       "      <td>...</td>\n",
       "      <td>...</td>\n",
       "      <td>...</td>\n",
       "      <td>...</td>\n",
       "      <td>...</td>\n",
       "      <td>...</td>\n",
       "      <td>...</td>\n",
       "      <td>...</td>\n",
       "      <td>...</td>\n",
       "      <td>...</td>\n",
       "      <td>...</td>\n",
       "      <td>...</td>\n",
       "      <td>...</td>\n",
       "    </tr>\n",
       "    <tr>\n",
       "      <th>922</th>\n",
       "      <td>67.307329</td>\n",
       "      <td>-13.221738</td>\n",
       "      <td>-7.205212</td>\n",
       "      <td>10.445711</td>\n",
       "      <td>11.727959</td>\n",
       "      <td>5.460432</td>\n",
       "      <td>-3.525082</td>\n",
       "      <td>-3.259497</td>\n",
       "      <td>14.772050</td>\n",
       "      <td>-15.840398</td>\n",
       "      <td>...</td>\n",
       "      <td>7.219480</td>\n",
       "      <td>-0.848730</td>\n",
       "      <td>-5.460500</td>\n",
       "      <td>7.082941</td>\n",
       "      <td>-19.837681</td>\n",
       "      <td>-14.197246</td>\n",
       "      <td>7.195635</td>\n",
       "      <td>-5.240220</td>\n",
       "      <td>5.332609</td>\n",
       "      <td>214.0</td>\n",
       "    </tr>\n",
       "    <tr>\n",
       "      <th>923</th>\n",
       "      <td>57.966623</td>\n",
       "      <td>-59.497084</td>\n",
       "      <td>-52.562410</td>\n",
       "      <td>22.266610</td>\n",
       "      <td>0.415830</td>\n",
       "      <td>-10.601152</td>\n",
       "      <td>-16.635296</td>\n",
       "      <td>-9.969256</td>\n",
       "      <td>-0.284113</td>\n",
       "      <td>-1.413732</td>\n",
       "      <td>...</td>\n",
       "      <td>3.691426</td>\n",
       "      <td>2.142297</td>\n",
       "      <td>7.482301</td>\n",
       "      <td>-8.763694</td>\n",
       "      <td>-3.739898</td>\n",
       "      <td>-3.502192</td>\n",
       "      <td>0.082057</td>\n",
       "      <td>4.367725</td>\n",
       "      <td>1.692940</td>\n",
       "      <td>214.0</td>\n",
       "    </tr>\n",
       "    <tr>\n",
       "      <th>924</th>\n",
       "      <td>62.182329</td>\n",
       "      <td>5.647307</td>\n",
       "      <td>0.720979</td>\n",
       "      <td>-16.834323</td>\n",
       "      <td>12.546339</td>\n",
       "      <td>-30.983102</td>\n",
       "      <td>10.163477</td>\n",
       "      <td>-1.794559</td>\n",
       "      <td>-2.934602</td>\n",
       "      <td>-10.574182</td>\n",
       "      <td>...</td>\n",
       "      <td>-3.692291</td>\n",
       "      <td>-11.730156</td>\n",
       "      <td>-1.922167</td>\n",
       "      <td>3.431611</td>\n",
       "      <td>-0.346141</td>\n",
       "      <td>7.539929</td>\n",
       "      <td>10.140424</td>\n",
       "      <td>10.847029</td>\n",
       "      <td>11.535777</td>\n",
       "      <td>214.0</td>\n",
       "    </tr>\n",
       "    <tr>\n",
       "      <th>925</th>\n",
       "      <td>-55.958432</td>\n",
       "      <td>-24.009413</td>\n",
       "      <td>-22.241092</td>\n",
       "      <td>5.122739</td>\n",
       "      <td>-20.917866</td>\n",
       "      <td>14.323255</td>\n",
       "      <td>-6.000734</td>\n",
       "      <td>2.180075</td>\n",
       "      <td>5.499502</td>\n",
       "      <td>13.206226</td>\n",
       "      <td>...</td>\n",
       "      <td>2.999924</td>\n",
       "      <td>-1.800772</td>\n",
       "      <td>-1.635239</td>\n",
       "      <td>-5.086017</td>\n",
       "      <td>-6.095222</td>\n",
       "      <td>-2.294350</td>\n",
       "      <td>1.067242</td>\n",
       "      <td>3.450276</td>\n",
       "      <td>6.593221</td>\n",
       "      <td>214.0</td>\n",
       "    </tr>\n",
       "    <tr>\n",
       "      <th>926</th>\n",
       "      <td>-14.637878</td>\n",
       "      <td>46.270624</td>\n",
       "      <td>2.435104</td>\n",
       "      <td>-16.496271</td>\n",
       "      <td>5.012368</td>\n",
       "      <td>8.049375</td>\n",
       "      <td>-8.952423</td>\n",
       "      <td>-7.082413</td>\n",
       "      <td>8.676333</td>\n",
       "      <td>-9.451572</td>\n",
       "      <td>...</td>\n",
       "      <td>8.212166</td>\n",
       "      <td>8.449760</td>\n",
       "      <td>-1.428125</td>\n",
       "      <td>6.035710</td>\n",
       "      <td>1.270463</td>\n",
       "      <td>6.954973</td>\n",
       "      <td>-2.179608</td>\n",
       "      <td>3.365054</td>\n",
       "      <td>-2.384258</td>\n",
       "      <td>214.0</td>\n",
       "    </tr>\n",
       "  </tbody>\n",
       "</table>\n",
       "<p>927 rows × 21 columns</p>\n",
       "</div>"
      ],
      "text/plain": [
       "     Feature_0  Feature_1  Feature_2  Feature_3  Feature_4  Feature_5  \\\n",
       "0     0.563894 -27.651872  -4.104407  39.997896   0.946165   9.929643   \n",
       "1   -47.069081   4.777334  23.668899  -1.494526   4.079126   6.219525   \n",
       "2    87.580064  68.957803 -24.483299  20.099587 -14.564748  13.782585   \n",
       "3   -67.800301  -4.261082   6.755723  -7.386537  25.887966  -2.374427   \n",
       "4   -31.314307 -33.503198  -3.069644   5.036652 -21.603841 -22.266481   \n",
       "..         ...        ...        ...        ...        ...        ...   \n",
       "922  67.307329 -13.221738  -7.205212  10.445711  11.727959   5.460432   \n",
       "923  57.966623 -59.497084 -52.562410  22.266610   0.415830 -10.601152   \n",
       "924  62.182329   5.647307   0.720979 -16.834323  12.546339 -30.983102   \n",
       "925 -55.958432 -24.009413 -22.241092   5.122739 -20.917866  14.323255   \n",
       "926 -14.637878  46.270624   2.435104 -16.496271   5.012368   8.049375   \n",
       "\n",
       "     Feature_6  Feature_7  Feature_8  Feature_9  ...  Feature_11  Feature_12  \\\n",
       "0     1.731378 -27.739661  11.814051 -16.247570  ...  -25.134839  -12.323980   \n",
       "1    13.454602  -3.111150  -4.269745  -4.589224  ...    3.699144    0.396980   \n",
       "2     4.291053  19.333600 -14.647395   2.183234  ...   -6.511897    6.073350   \n",
       "3     4.453961  -3.503804  -7.116013   6.348078  ...   -1.549549   -0.090490   \n",
       "4    -3.565972  21.526742  -1.067324   1.093526  ...  -10.541135   -0.439779   \n",
       "..         ...        ...        ...        ...  ...         ...         ...   \n",
       "922  -3.525082  -3.259497  14.772050 -15.840398  ...    7.219480   -0.848730   \n",
       "923 -16.635296  -9.969256  -0.284113  -1.413732  ...    3.691426    2.142297   \n",
       "924  10.163477  -1.794559  -2.934602 -10.574182  ...   -3.692291  -11.730156   \n",
       "925  -6.000734   2.180075   5.499502  13.206226  ...    2.999924   -1.800772   \n",
       "926  -8.952423  -7.082413   8.676333  -9.451572  ...    8.212166    8.449760   \n",
       "\n",
       "     Feature_13  Feature_14  Feature_15  Feature_16  Feature_17  Feature_18  \\\n",
       "0     -9.285431    5.085570   -1.259299   -1.164029    1.787597  -14.898986   \n",
       "1     -1.095760   -2.313230   -3.217391    2.422398    3.191262   -1.876169   \n",
       "2     -0.601690   -1.873165   -9.463481   -0.456301   -1.467119   -8.727795   \n",
       "3     -2.792017   -1.761825   -5.233319   -1.937788    1.344041   -1.611306   \n",
       "4     -5.411566    6.123481    1.148077   -0.896215    2.075294   -0.016857   \n",
       "..          ...         ...         ...         ...         ...         ...   \n",
       "922   -5.460500    7.082941  -19.837681  -14.197246    7.195635   -5.240220   \n",
       "923    7.482301   -8.763694   -3.739898   -3.502192    0.082057    4.367725   \n",
       "924   -1.922167    3.431611   -0.346141    7.539929   10.140424   10.847029   \n",
       "925   -1.635239   -5.086017   -6.095222   -2.294350    1.067242    3.450276   \n",
       "926   -1.428125    6.035710    1.270463    6.954973   -2.179608    3.365054   \n",
       "\n",
       "     Feature_19  Target  \n",
       "0    -13.624128   174.0  \n",
       "1     -2.181530   174.0  \n",
       "2      3.042135   174.0  \n",
       "3     -2.219085   174.0  \n",
       "4     -4.695255   174.0  \n",
       "..          ...     ...  \n",
       "922    5.332609   214.0  \n",
       "923    1.692940   214.0  \n",
       "924   11.535777   214.0  \n",
       "925    6.593221   214.0  \n",
       "926   -2.384258   214.0  \n",
       "\n",
       "[927 rows x 21 columns]"
      ]
     },
     "execution_count": 42,
     "metadata": {},
     "output_type": "execute_result"
    }
   ],
   "source": [
    "patients = ['patient174','patient174','patient174','patient180','patient180','patient180','patient185','patient214']\n",
    "records=   ['s0300lre','s0324lre','s0325lre','s0475_re','s0374lre','s0476_re','s0336lre','s0436_re']\n",
    "# Define the patient and recording names\n",
    "df = pd.DataFrame()\n",
    "for i in range(len(patients)):\n",
    "    record_name = f'{patients[i]}/{records[i]}'\n",
    "    filtered_signal = filter_sig(record_name)\n",
    "    signal=segment_sig(filtered_signal[300:])\n",
    "    ac_dct_signal = AC_DCT(signal)\n",
    "    patient_no = patients[i][7:]\n",
    "    X_train, X_test, y_train, y_test = prepare_data(patient_no,ac_dct_signal)\n",
    "    X_train,X_test = PCA_sig(X_train,X_test)\n",
    "    df = add_to_df(X_train,X_test,y_train,y_test,df)\n",
    "df"
   ]
  },
  {
   "cell_type": "code",
   "execution_count": 43,
   "metadata": {},
   "outputs": [],
   "source": [
    "X_train, X_test, y_train, y_test = train_test_split(df.iloc[:, 0:-1],df['Target'], test_size=0.2, random_state=42,shuffle=True)"
   ]
  },
  {
   "cell_type": "code",
   "execution_count": 44,
   "metadata": {},
   "outputs": [],
   "source": [
    "#Import svm model\n",
    "from sklearn import svm\n",
    "\n",
    "#Create a svm Classifier\n",
    "clf = svm.SVC() # Linear Kernel\n",
    "\n",
    "#Train the model using the training sets\n",
    "clf.fit(X_train, y_train)\n",
    "\n",
    "#Predict the response for test dataset\n",
    "y_pred = clf.predict(X_test)"
   ]
  },
  {
   "cell_type": "code",
   "execution_count": 49,
   "metadata": {},
   "outputs": [
    {
     "name": "stdout",
     "output_type": "stream",
     "text": [
      "              precision    recall  f1-score   support\n",
      "\n",
      "       174.0       0.59      0.47      0.53        76\n",
      "       180.0       0.43      0.73      0.54        67\n",
      "       185.0       0.80      0.17      0.29        23\n",
      "       214.0       1.00      0.30      0.46        20\n",
      "\n",
      "    accuracy                           0.51       186\n",
      "   macro avg       0.70      0.42      0.45       186\n",
      "weighted avg       0.60      0.51      0.49       186\n",
      "\n"
     ]
    }
   ],
   "source": [
    "from sklearn.ensemble import RandomForestClassifier\n",
    "from sklearn.metrics import classification_report\n",
    "\n",
    "# Create a Random Forest classifier\n",
    "rf = RandomForestClassifier()\n",
    "\n",
    "# Train the model on the training data\n",
    "rf.fit(X_train, y_train)\n",
    "\n",
    "# Make predictions on the test data\n",
    "y_pred = rf.predict(X_test)\n",
    "\n",
    "# Evaluate the model's performance\n",
    "print(classification_report(y_test, y_pred))"
   ]
  },
  {
   "cell_type": "code",
   "execution_count": 46,
   "metadata": {},
   "outputs": [
    {
     "name": "stdout",
     "output_type": "stream",
     "text": [
      "              precision    recall  f1-score   support\n",
      "\n",
      "       174.0       0.46      0.38      0.42        76\n",
      "       180.0       0.40      0.49      0.44        67\n",
      "       185.0       0.32      0.30      0.31        23\n",
      "       214.0       0.37      0.35      0.36        20\n",
      "\n",
      "    accuracy                           0.41       186\n",
      "   macro avg       0.39      0.38      0.38       186\n",
      "weighted avg       0.41      0.41      0.41       186\n",
      "\n"
     ]
    }
   ],
   "source": [
    "from sklearn.tree import DecisionTreeClassifier\n",
    "from sklearn.model_selection import train_test_split\n",
    "from sklearn.metrics import accuracy_score\n",
    "\n",
    "# Assuming you have X_train, X_test, y_train, y_test as your feature and target variables\n",
    "\n",
    "# Create a Decision Tree Classifier\n",
    "clf = DecisionTreeClassifier()\n",
    "\n",
    "# Fit the classifier to the training data\n",
    "clf.fit(X_train, y_train)\n",
    "\n",
    "# Make predictions on the test data\n",
    "y_pred = clf.predict(X_test)\n",
    "\n",
    "# Evaluate the accuracy of the classifier\n",
    "print(classification_report(y_test, y_pred))\n"
   ]
  },
  {
   "cell_type": "code",
   "execution_count": 17,
   "metadata": {},
   "outputs": [
    {
     "name": "stdout",
     "output_type": "stream",
     "text": [
      "Accuracy: 0.44086021505376344\n"
     ]
    }
   ],
   "source": [
    "#Import scikit-learn metrics module for accuracy calculation\n",
    "from sklearn import metrics\n",
    "\n",
    "# Model Accuracy: how often is the classifier correct?\n",
    "print(\"Accuracy:\",metrics.accuracy_score(y_test, y_pred))"
   ]
  },
  {
   "cell_type": "markdown",
   "metadata": {},
   "source": [
    "## ICA"
   ]
  },
  {
   "cell_type": "code",
   "execution_count": 20,
   "metadata": {},
   "outputs": [
    {
     "data": {
      "image/png": "[encoded data removed]",
      "text/plain": [
       "<Figure size 720x360 with 1 Axes>"
      ]
     },
     "metadata": {
      "needs_background": "light"
     },
     "output_type": "display_data"
    },
    {
     "data": {
      "image/png": "[encoded data removed]",
      "text/plain": [
       "<Figure size 720x360 with 1 Axes>"
      ]
     },
     "metadata": {
      "needs_background": "light"
     },
     "output_type": "display_data"
    },
    {
     "data": {
      "image/png": "[encoded data removed]",
      "text/plain": [
       "<Figure size 720x360 with 1 Axes>"
      ]
     },
     "metadata": {
      "needs_background": "light"
     },
     "output_type": "display_data"
    }
   ],
   "source": [
    "from sklearn.decomposition import FastICA\n",
    "\n",
    "# Apply ICA with 3 components\n",
    "ica = FastICA(n_components=3)\n",
    "ica_signal = ica.fit_transform(dct_coeffs.T)\n",
    "\n",
    "# Plot each independent component on a separate plot\n",
    "for i in range(3):\n",
    "    plt.figure(figsize=(10, 5))\n",
    "    plt.subplot(3, 1, i+1)\n",
    "    plt.plot(ica_signal[:, i])\n",
    "    plt.title('ICA component {} for filtered ECG signal of patient {}'.format(i+1, patient))\n",
    "    plt.xlabel('Sample number')\n",
    "    plt.ylabel('Amplitude')\n",
    "plt.tight_layout()\n",
    "plt.show()\n"
   ]
  },
  {
   "cell_type": "code",
   "execution_count": null,
   "metadata": {},
   "outputs": [],
   "source": []
  }
 ],
 "metadata": {
  "kernelspec": {
   "display_name": "Python 3",
   "language": "python",
   "name": "python3"
  },
  "language_info": {
   "codemirror_mode": {
    "name": "ipython",
    "version": 3
   },
   "file_extension": ".py",
   "mimetype": "text/x-python",
   "name": "python",
   "nbconvert_exporter": "python",
   "pygments_lexer": "ipython3",
   "version": "3.7.6"
  }
 },
 "nbformat": 4,
 "nbformat_minor": 4
}
